{
  "nbformat": 4,
  "nbformat_minor": 0,
  "metadata": {
    "colab": {
      "name": "Bioinformatical analysis of genome data NTU R langauge.ipynb",
      "provenance": [],
      "authorship_tag": "ABX9TyP5/5MlIO3MuViJ5rDGBuIn",
      "include_colab_link": true
    },
    "kernelspec": {
      "name": "python3",
      "display_name": "Python 3"
    },
    "language_info": {
      "name": "python"
    }
  },
  "cells": [
    {
      "cell_type": "markdown",
      "metadata": {
        "id": "view-in-github",
        "colab_type": "text"
      },
      "source": [
        "<a href=\"https://colab.research.google.com/github/ik339/NTU-R-langauge/blob/main/Bioinformatical_analysis_of_genome_data_NTU_R_langauge.ipynb\" target=\"_parent\"><img src=\"https://colab.research.google.com/assets/colab-badge.svg\" alt=\"Open In Colab\"/></a>"
      ]
    },
    {
      "cell_type": "code",
      "execution_count": null,
      "metadata": {
        "id": "mrDmAAm-8gpr"
      },
      "outputs": [],
      "source": [
        "#bioinformatics assessment code\n",
        "#2.0\n",
        "> library(tidyverse)\n",
        "> library(lubridate)\n",
        "> library(stringdist)\n",
        "> library(Biostrings) #First load in the correct libraries into R.\n",
        "> setwd(\"/home/biouser/Downloads/assessment\") #change directory to where the sequences are in R.\n"
      ]
    },
    {
      "cell_type": "code",
      "source": [
        "#2.1\n",
        "> euroseqMetaData <- read_csv(\"euroseq.csv\")\n",
        "and parsed using tidyverse functions. (Wickham et al., 2019).\n",
        "> ymd(euroseqMetaData$Collection_Date)\n"
      ],
      "metadata": {
        "id": "CvOrG_wz9B6d"
      },
      "execution_count": null,
      "outputs": []
    },
    {
      "cell_type": "code",
      "source": [
        "#2.2\n",
        "> IncorrectDates <- is.na(ymd(euroseqMetaData$Collection_Date))  #Boolean vector identifying incomplete dates.\n",
        "> notHumanHost <- euroseqMetaData %>% select(Host) %>% as_vector() %>% str_detect(\"Felis\") #Boolean vector to identify Felis catus \n",
        "> NotHumanIncompleteDates <-  IncorrectDates | notHumanHost #combined Boolean vectors.\n"
      ],
      "metadata": {
        "id": "l43m4D_r9CqG"
      },
      "execution_count": null,
      "outputs": []
    },
    {
      "cell_type": "code",
      "source": [
        "#2.3\n",
        "> euroseqMDFiltered <- euroseqMetaData %>% filter(!NotHumanIncompleteDates) #Make new tibble. Incorrect dates and non-human hosts removed.\n",
        "> euroseqMDFiltered %>% type_convert() #Parse again\n",
        "> ymd(euroseqMDFiltered$Collection_Date)  #check things are parsed correctly. \n",
        "> rm(“euroseqMetaData”) #remove old tibble from 2.1 \n"
      ],
      "metadata": {
        "id": "IfU7UCL99MKa"
      },
      "execution_count": null,
      "outputs": []
    },
    {
      "cell_type": "code",
      "source": [
        "#2.4\n",
        "> euroseqMDFiltered %>% arrange(Collection_Date)\n",
        "> euroseqMDFiltered %>% filter(Collection_Date == max(Collection_Date))   #Identify recent collected date\n"
      ],
      "metadata": {
        "id": "SlKXdBAL9Pd_"
      },
      "execution_count": null,
      "outputs": []
    },
    {
      "cell_type": "code",
      "source": [
        "#2.5\n",
        "> euroseqMDFNew <- euroseqMDFiltered %>% mutate(Days = ymd(20200514) - ymd(Collection_Date)) %>% filter(Days >= 0)\n",
        "#Subtracting each row's collection date from this recent collection point. Permanently add column “Days”, meaning days before recent collection date. "
      ],
      "metadata": {
        "id": "RCY0lMFC9SqA"
      },
      "execution_count": null,
      "outputs": []
    },
    {
      "cell_type": "code",
      "source": [
        "#3.1\n",
        "#import fasta\n",
        "> euroseqFastaStringSet <- readDNAStringSet(\"euroseq.fasta\", format = \"fasta\")"
      ],
      "metadata": {
        "id": "N9030rqw9Zu8"
      },
      "execution_count": null,
      "outputs": []
    },
    {
      "cell_type": "code",
      "source": [
        "#3.2\n",
        "> euroseqFSSFilt <- euroseqFastaStringSet[!NotHumanIncompleteDates] #Combined Boolean used.\n",
        "> rm(\"euroseqFastaStringSet\") #remove old unfiltered object.\n"
      ],
      "metadata": {
        "id": "oQxY09Un9dDN"
      },
      "execution_count": null,
      "outputs": []
    },
    {
      "cell_type": "code",
      "source": [
        "#3.3\n",
        "> euroseqfasta  <- names(euroseqFSSFilt) %>% str_split(\" \\\\|\", n=2, simplify = TRUE) #parse sequence names\n",
        "> colnames(euroseqfasta) <- c(\"Country\", \"Accession\")\t#add column names.\n",
        "> euroseqNewfasta<- euroseqfasta %>% as_tibble()  #new tibble.\n"
      ],
      "metadata": {
        "id": "CzKLxtr19joQ"
      },
      "execution_count": null,
      "outputs": []
    },
    {
      "cell_type": "code",
      "source": [
        "#3.4\n",
        "> euroseqFBA <- euroseqNewfasta %>% mutate(BaseAcc = str_extract(Accession, \"[A-Za-z0-9_]+\"))\t \n",
        "#add base accession column, new tibble."
      ],
      "metadata": {
        "id": "OX7_5yTT9mC7"
      },
      "execution_count": null,
      "outputs": []
    },
    {
      "cell_type": "code",
      "source": [
        "#3.5\n",
        "> euroDataJoined <- euroseqFBA%>%full_join(euroseqMDFNew, by = c(\"BaseAcc\"=\"Accession\")) \n",
        "# full outer join.new tibble."
      ],
      "metadata": {
        "id": "VKsJIQLg9rM-"
      },
      "execution_count": null,
      "outputs": []
    },
    {
      "cell_type": "code",
      "source": [
        "#3.6\n",
        "> names(euroseqFSSFilt) <- str_c(names(euroseqFSSFilt), \"|\", euroDataJoined$Host)\n",
        "> names(euroseqFSSFilt) <- str_c(names(euroseqFSSFilt), \"|\", euroDataJoined$Days) #add new collumns. \n",
        "> names(euroseqFSSFilt)%>%as_tibble()\n"
      ],
      "metadata": {
        "id": "cyMk1_cw9tJk"
      },
      "execution_count": null,
      "outputs": []
    },
    {
      "cell_type": "code",
      "source": [
        "#3.7\n",
        "> writeXStringSet(euroseqFSSFilt, \"euroseqFSSFilt.fasta\", format = \"fasta\")\n"
      ],
      "metadata": {
        "id": "Xwlom0on9xDs"
      },
      "execution_count": null,
      "outputs": []
    },
    {
      "cell_type": "code",
      "source": [
        "#4.1\n",
        "conda activate msa \n",
        "cd Downloads/assessment #in bash terminal\n",
        "cat euroFSSFilt.fasta mink3.fasta > combined.fasta #Combine fasta and mink.\n"
      ],
      "metadata": {
        "id": "s1uIxFr-9zVI"
      },
      "execution_count": null,
      "outputs": []
    },
    {
      "cell_type": "code",
      "source": [
        "#4.2\n",
        "mafft --auto --addfragments combined.fasta reference.fasta > aligned.fasta #open mafft"
      ],
      "metadata": {
        "id": "A-aeDY4193Ny"
      },
      "execution_count": null,
      "outputs": []
    },
    {
      "cell_type": "code",
      "source": [
        "#4.3. \n",
        "#Using the microseq library (Snipen and Hovde Liland, 2021)\n",
        "#aligned sequence data were trimmed to remove all gaps at the 5’ and 3’ ends of the alignment: \n",
        "\n",
        "library(microseq) #load library in R\n",
        "setwd(\"/home/biouser/Downloads/assessment\")\n",
        "Alignment <- readFasta(\"aligned.fasta\")  #read it in R.\n",
        "dim(Alignment) #check dimensions\n",
        "str_length(Alignment$Sequence) #check length\n",
        "TrimmedAlignment <- msaTrim(Alignment, gap.end=0, gap.mid=1) #trim str_length(TrimmedAlignment$Sequence)#check length.\n",
        "#The reference sequence was removed and data written to file: \n",
        "WithoutReference <- TrimmedAlignment[2:dim(TrimmedAlignment)\n",
        "writeFasta(WithoutReference, \"trimmed.fasta\", width = 80)\n",
        "#Aligned and trimmed data were then used as input for phylogenetic analysis.\n"
      ],
      "metadata": {
        "id": "mw_ytDhX96ub"
      },
      "execution_count": null,
      "outputs": []
    }
  ]
}