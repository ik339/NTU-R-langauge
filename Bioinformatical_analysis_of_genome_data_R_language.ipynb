{
  "nbformat": 4,
  "nbformat_minor": 0,
  "metadata": {
    "colab": {
      "name": "Bioinformatical analysis of genome data NTU R langauge.ipynb",
      "provenance": [],
      "authorship_tag": "ABX9TyMmIGhwT6KFUETXJZnZ18K0",
      "include_colab_link": true
    },
    "kernelspec": {
      "name": "python3",
      "display_name": "Python 3"
    },
    "language_info": {
      "name": "python"
    }
  },
  "cells": [
    {
      "cell_type": "markdown",
      "metadata": {
        "id": "view-in-github",
        "colab_type": "text"
      },
      "source": [
        "<a href=\"https://colab.research.google.com/github/ik339/NTU-R-language/blob/main/Bioinformatical_analysis_of_genome_data_R_language.ipynb\" target=\"_parent\"><img src=\"https://colab.research.google.com/assets/colab-badge.svg\" alt=\"Open In Colab\"/></a>"
      ]
    },
    {
      "cell_type": "code",
      "execution_count": null,
      "metadata": {
        "id": "mrDmAAm-8gpr"
      },
      "outputs": [],
      "source": [
        "#Sequences were collected to begin the analysis: \n",
        "#•\treference.fasta (Wuhan reference sequence (NC_045512.2) for SARS-CoV-2) \n",
        "#•\tminkn.fasta (mink-derived SARS-CoV-2 genome sequence)\n",
        "#•\teuroseq.fasta (sequence data), euroseq.csv (metadata) . These are data from other countries. colinear files)\n",
        "\n",
        "#First import the correct libraries into R.\n",
        "> library(tidyverse)\n",
        "> library(lubridate)\n",
        "> library(stringdist)\n",
        "> library(Biostrings)\n",
        "#change working directory in R to where the sequences are located on the computer.\n",
        "> setwd(\"/home/biouser/Downloads/assessment\")\n"
      ]
    },
    {
      "cell_type": "code",
      "source": [
        "#Import csv file into a named tibble.\n",
        "> euroseqMetaData <- read_csv(\"euroseq.csv\")\n",
        "# parse tibble using tidyverse functions:\n",
        "> ymd(euroseqMetaData$Collection_Date)\n"
      ],
      "metadata": {
        "id": "CvOrG_wz9B6d"
      },
      "execution_count": null,
      "outputs": []
    },
    {
      "cell_type": "code",
      "source": [
        " #The following code was used to derive a vector corresponding to samples with incompletely formatted collection dates \n",
        " #and/or non-human hosts and then remove this data: \n",
        "> IncorrectDates <- is.na(ymd(euroseqMetaData$Collection_Date))  #Boolean vector identifying incomplete dates.\n",
        "> notHumanHost <- euroseqMetaData %>% select(Host) %>% as_vector() %>% str_detect(\"Felis\") #Boolean vector identifying Felis catus \n",
        "> NotHumanIncompleteDates <-  IncorrectDates | notHumanHost #combined Boolean vectors.\n"
      ],
      "metadata": {
        "id": "l43m4D_r9CqG"
      },
      "execution_count": null,
      "outputs": []
    },
    {
      "cell_type": "code",
      "source": [
        "> euroseqMDFiltered <- euroseqMetaData %>% filter(!NotHumanIncompleteDates) #Make new tibble. Incorrect dates and non-human hosts removed.\n",
        "> euroseqMDFiltered %>% type_convert() #Parse again\n",
        "> ymd(euroseqMDFiltered$Collection_Date)  #check things are parsed correctly. \n",
        "> rm(“euroseqMetaData”) #remove old tibble \n"
      ],
      "metadata": {
        "id": "IfU7UCL99MKa"
      },
      "execution_count": null,
      "outputs": []
    },
    {
      "cell_type": "code",
      "source": [
        "> euroseqMDFiltered %>% arrange(Collection_Date)\n",
        "> euroseqMDFiltered %>% filter(Collection_Date == max(Collection_Date))   #Identification of the recent collected date\n"
      ],
      "metadata": {
        "id": "SlKXdBAL9Pd_"
      },
      "execution_count": null,
      "outputs": []
    },
    {
      "cell_type": "code",
      "source": [
        "> euroseqMDFNew <- euroseqMDFiltered %>% mutate(Days = ymd(20200514) - ymd(Collection_Date)) %>% filter(Days >= 0)\n",
        "#Subtracting each row's collection date from this recent collection point. \n",
        "#Permanently add column “Days”, meaning days before recent collection date. "
      ],
      "metadata": {
        "id": "RCY0lMFC9SqA"
      },
      "execution_count": null,
      "outputs": []
    },
    {
      "cell_type": "code",
      "source": [
        "#import fasta into a named object.\n",
        "> euroseqFastaStringSet <- readDNAStringSet(\"euroseq.fasta\", format = \"fasta\")"
      ],
      "metadata": {
        "id": "N9030rqw9Zu8"
      },
      "execution_count": null,
      "outputs": []
    },
    {
      "cell_type": "code",
      "source": [
        "#as the data is colinear remove the same data using the aleady created combined Boolean vector. \n",
        "> euroseqFSSFilt <- euroseqFastaStringSet[!NotHumanIncompleteDates]\n",
        "> rm(\"euroseqFastaStringSet\") #remove old unfiltered object.\n"
      ],
      "metadata": {
        "id": "oQxY09Un9dDN"
      },
      "execution_count": null,
      "outputs": []
    },
    {
      "cell_type": "code",
      "source": [
        "> euroseqfasta  <- names(euroseqFSSFilt) %>% str_split(\" \\\\|\", n=2, simplify = TRUE) #parse sequence names from object.\n",
        "> colnames(euroseqfasta) <- c(\"Country\", \"Accession\")\t#add column names.\n",
        "> euroseqNewfasta<- euroseqfasta %>% as_tibble()  #create new tibble.\n"
      ],
      "metadata": {
        "id": "CzKLxtr19joQ"
      },
      "execution_count": null,
      "outputs": []
    },
    {
      "cell_type": "code",
      "source": [
        "> euroseqFBA <- euroseqNewfasta %>% mutate(BaseAcc = str_extract(Accession, \"[A-Za-z0-9_]+\"))\t \n",
        "#permenantly adds base accession column to the tibble."
      ],
      "metadata": {
        "id": "OX7_5yTT9mC7"
      },
      "execution_count": null,
      "outputs": []
    },
    {
      "cell_type": "code",
      "source": [
        "> euroDataJoined <- euroseqFBA%>%full_join(euroseqMDFNew, by = c(\"BaseAcc\"=\"Accession\")) \n",
        "# full outer join executed"
      ],
      "metadata": {
        "id": "VKsJIQLg9rM-"
      },
      "execution_count": null,
      "outputs": []
    },
    {
      "cell_type": "code",
      "source": [
        "#modify sequence names in the,object to contain country, accession, host species and days prior to last sample\n",
        "> names(euroseqFSSFilt) <- str_c(names(euroseqFSSFilt), \"|\", euroDataJoined$Host)\n",
        "> names(euroseqFSSFilt) <- str_c(names(euroseqFSSFilt), \"|\", euroDataJoined$Days) #add new collumns. \n",
        "> names(euroseqFSSFilt)%>%as_tibble()"
      ],
      "metadata": {
        "id": "cyMk1_cw9tJk"
      },
      "execution_count": null,
      "outputs": []
    },
    {
      "cell_type": "code",
      "source": [
        "#writing object into named fasta file\n",
        "> writeXStringSet(euroseqFSSFilt, \"euroseqFSSFilt.fasta\", format = \"fasta\")\n"
      ],
      "metadata": {
        "id": "Xwlom0on9xDs"
      },
      "execution_count": null,
      "outputs": []
    },
    {
      "cell_type": "code",
      "source": [
        "#open bash terminal \n",
        "conda activate msa \n",
        "cd Downloads/assessment\n",
        "cat euroFSSFilt.fasta mink3.fasta > combined.fasta #Combine fasta and mink sequences.\n"
      ],
      "metadata": {
        "id": "s1uIxFr-9zVI"
      },
      "execution_count": null,
      "outputs": []
    },
    {
      "cell_type": "code",
      "source": [
        "#using MAFFT carry out a reference-based alignment\n",
        "mafft --auto --addfragments combined.fasta reference.fasta > aligned.fasta #open mafft"
      ],
      "metadata": {
        "id": "A-aeDY4193Ny"
      },
      "execution_count": null,
      "outputs": []
    },
    {
      "cell_type": "code",
      "source": [
        "#Using the microseq library aligned sequence data was trimmed to remove all gaps at the 5’ and 3’ ends of the alignment.\n",
        "library(microseq) #load library in R\n",
        "setwd(\"/home/biouser/Downloads/assessment\")\n",
        "Alignment <- readFasta(\"aligned.fasta\")  #read it in R.\n",
        "dim(Alignment) #check dimensions\n",
        "str_length(Alignment$Sequence) #check length\n",
        "TrimmedAlignment <- msaTrim(Alignment, gap.end=0, gap.mid=1) #trim str_length(TrimmedAlignment$Sequence)#check length.\n",
        "\n",
        "#The reference sequence was removed and data written to file: \n",
        "WithoutReference <- TrimmedAlignment[2:dim(TrimmedAlignment)\n",
        "writeFasta(WithoutReference, \"trimmed.fasta\", width = 80)\n",
        "\n",
        "#Aligned and trimmed data were then used as input for phylogenetic analysis.\n"
      ],
      "metadata": {
        "id": "mw_ytDhX96ub"
      },
      "execution_count": null,
      "outputs": []
    }
  ]
}